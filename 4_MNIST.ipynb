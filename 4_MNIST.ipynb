{
 "cells": [
  {
   "cell_type": "markdown",
   "metadata": {},
   "source": [
    "# MNIST"
   ]
  },
  {
   "cell_type": "markdown",
   "metadata": {},
   "source": [
    "# 1. Training & Loading"
   ]
  },
  {
   "cell_type": "code",
   "execution_count": 1,
   "metadata": {},
   "outputs": [
    {
     "name": "stderr",
     "output_type": "stream",
     "text": [
      "/Users/lili/anaconda3/lib/python3.6/site-packages/h5py/__init__.py:34: FutureWarning: Conversion of the second argument of issubdtype from `float` to `np.floating` is deprecated. In future, it will be treated as `np.float64 == np.dtype(float).type`.\n",
      "  from ._conv import register_converters as _register_converters\n"
     ]
    },
    {
     "name": "stdout",
     "output_type": "stream",
     "text": [
      "load saving at ./demo/MNIST_relax_True_shift_True_T_300_depthLevel_1_l16_M3_H680/savings/FlowNetSaving_epoch390.saving\n"
     ]
    }
   ],
   "source": [
    "import numpy as np\n",
    "import torch\n",
    "from torch import nn\n",
    "import flow\n",
    "import train\n",
    "import utils\n",
    "import math\n",
    "import h5py\n",
    "\n",
    "# Set gobal variables.\n",
    "\n",
    "rootFolder = \"./demo/MNIST_relax_True_shift_True_T_300_depthLevel_1_l16_M3_H680/\"\n",
    "device = torch.device(\"cpu\")\n",
    "dtype = torch.float32\n",
    "dataset = \"./database/mnist.npz\"\n",
    "\n",
    "# Load paremeters\n",
    "\n",
    "with h5py.File(rootFolder+\"/parameter.hdf5\",\"r\") as f:\n",
    "    n = int(np.array(f[\"n\"]))\n",
    "    numFlow = int(np.array(f[\"numFlow\"]))\n",
    "    lossPlotStep = int(np.array(f[\"lossPlotStep\"]))\n",
    "    hidden = int(np.array(f[\"hidden\"]))\n",
    "    nlayers = int(np.array(f[\"nlayers\"]))\n",
    "    nmlp = int(np.array(f[\"nmlp\"]))\n",
    "    lr = int(np.array(f[\"lr\"]))\n",
    "    batchSize = int(np.array(f[\"batchSize\"]))\n",
    "    epochs = int(np.array(f[\"epochs\"]))\n",
    "    K = int(np.array(f[\"K\"]))\n",
    "    \n",
    "# Build the target.\n",
    "\n",
    "from utils import MDSampler,load\n",
    "dataset = load(dataset).to(device).to(dtype)\n",
    "target = MDSampler(dataset)\n",
    "    \n",
    "# Rebuild the model.\n",
    "\n",
    "def innerBuilder(num):\n",
    "    maskList = []\n",
    "    for i in range(nlayers):\n",
    "        if i %2==0:\n",
    "            b = torch.zeros(num)\n",
    "            i = torch.randperm(b.numel()).narrow(0, 0, b.numel() // 2)\n",
    "            b.zero_()[i] = 1\n",
    "            b=b.reshape(1,num)\n",
    "        else:\n",
    "            b = 1-b\n",
    "        maskList.append(b)\n",
    "    maskList = torch.cat(maskList,0).to(torch.float32)\n",
    "    fl = flow.RNVP(maskList, [utils.SimpleMLPreshape([num]+[hidden]*nmlp+[num],[nn.Softplus()]*nmlp+[None]) for _ in range(nlayers)], [utils.SimpleMLPreshape([num]+[hidden]*nmlp+[num],[nn.Softplus()]*nmlp+[utils.ScalableTanh(num)]) for _ in range(nlayers)])\n",
    "    return fl\n",
    "\n",
    "from utils import flowBuilder\n",
    "\n",
    "f = flowBuilder(n,numFlow,innerBuilder,1).to(device).to(dtype)\n",
    "\n",
    "# Load saving.\n",
    "\n",
    "import os\n",
    "import glob\n",
    "name = max(glob.iglob(rootFolder+\"savings/\"+'*.saving'), key=os.path.getctime)\n",
    "print(\"load saving at \"+name)\n",
    "saved = torch.load(name,map_location=device)\n",
    "f.load(saved);"
   ]
  },
  {
   "cell_type": "markdown",
   "metadata": {},
   "source": [
    "# 2. Analysis"
   ]
  },
  {
   "cell_type": "code",
   "execution_count": 2,
   "metadata": {},
   "outputs": [
    {
     "data": {
      "image/png": "[encoded data removed]",
      "text/plain": [
       "<matplotlib.figure.Figure at 0x11040ae80>"
      ]
     },
     "metadata": {},
     "output_type": "display_data"
    }
   ],
   "source": [
    "# Calculate modes in the latent space.\n",
    "\n",
    "d0 = f.layerList[0].elements[:n]\n",
    "d1 = f.layerList[0].elements[n:]\n",
    "omega = (1/(torch.exp(d0+d1))).detach()\n",
    "\n",
    "from matplotlib import pyplot as plt\n",
    "from utils import logit_back,logit\n",
    "\n",
    "from copy import deepcopy\n",
    "omega, idx = torch.sort(omega)\n",
    "original = target.sample(1)\n",
    "saveList = [original[:,:784].reshape(28,28)]\n",
    "z = f.forward(original)[0].detach()\n",
    "for nslow in [5,10,15,20,25,30,35]:\n",
    "    noise = torch.randn(nslow)\n",
    "    zz = deepcopy(z)\n",
    "    zz[:,idx[nslow:784]] = f.layerList[0].inverse(torch.randn(original.shape))[0][:,idx[nslow:784]]\n",
    "    saveList.append(f.inverse(zz)[0].detach()[:,:784].reshape(28,28))\n",
    "imgs = torch.cat(saveList,1)\n",
    "\n",
    "plt.figure(figsize=(12,4))\n",
    "plt.imshow(logit_back(imgs),cmap=\"gray\")\n",
    "plt.show()"
   ]
  },
  {
   "cell_type": "code",
   "execution_count": null,
   "metadata": {
    "collapsed": true
   },
   "outputs": [],
   "source": []
  }
 ],
 "metadata": {
  "@webio": {
   "lastCommId": null,
   "lastKernelId": null
  },
  "kernelspec": {
   "display_name": "Python 3",
   "language": "python",
   "name": "python3"
  },
  "language_info": {
   "codemirror_mode": {
    "name": "ipython",
    "version": 3
   },
   "file_extension": ".py",
   "mimetype": "text/x-python",
   "name": "python",
   "nbconvert_exporter": "python",
   "pygments_lexer": "ipython3",
   "version": "3.6.8"
  }
 },
 "nbformat": 4,
 "nbformat_minor": 2
}
