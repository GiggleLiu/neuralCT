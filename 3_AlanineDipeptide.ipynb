{
 "cells": [
  {
   "cell_type": "markdown",
   "metadata": {},
   "source": [
    "# AlanineDipeptide"
   ]
  },
  {
   "cell_type": "markdown",
   "metadata": {},
   "source": [
    "# 1. Training & Loading"
   ]
  },
  {
   "cell_type": "code",
   "execution_count": 1,
   "metadata": {},
   "outputs": [
    {
     "name": "stderr",
     "output_type": "stream",
     "text": [
      "/Users/lili/anaconda3/lib/python3.6/site-packages/h5py/__init__.py:34: FutureWarning: Conversion of the second argument of issubdtype from `float` to `np.floating` is deprecated. In future, it will be treated as `np.float64 == np.dtype(float).type`.\n",
      "  from ._conv import register_converters as _register_converters\n"
     ]
    },
    {
     "name": "stdout",
     "output_type": "stream",
     "text": [
      "load saving at ./demo/Model_CC(=O)NC(C)C(=O)NC_Batch_200_T_300_depthLevel_1_l8_M2_H128/savings/FlowNetSaving_epoch490.saving\n"
     ]
    }
   ],
   "source": [
    "import numpy as np\n",
    "import torch\n",
    "from torch import nn\n",
    "import flow\n",
    "import train\n",
    "import utils\n",
    "import math\n",
    "import h5py\n",
    "\n",
    "# Set gobal variables.\n",
    "\n",
    "rootFolder = \"./demo/Model_CC(=O)NC(C)C(=O)NC_Batch_200_T_300_depthLevel_1_l8_M2_H128/\"\n",
    "device = torch.device(\"cpu\")\n",
    "dtype = torch.float32\n",
    "smile = \"CC(=O)NC(C)C(=O)NC\"\n",
    "dataset = \"./database/alanine-dipeptide-3x250ns-heavy-atom-positions.npz\"\n",
    "\n",
    "# Load paremeters\n",
    "\n",
    "with h5py.File(rootFolder+\"/parameter.hdf5\",\"r\") as f:\n",
    "    n = int(np.array(f[\"n\"]))\n",
    "    numFlow = int(np.array(f[\"numFlow\"]))\n",
    "    lossPlotStep = int(np.array(f[\"lossPlotStep\"]))\n",
    "    hidden = int(np.array(f[\"hidden\"]))\n",
    "    nlayers = int(np.array(f[\"nlayers\"]))\n",
    "    nmlp = int(np.array(f[\"nmlp\"]))\n",
    "    lr = int(np.array(f[\"lr\"]))\n",
    "    batchSize = int(np.array(f[\"batchSize\"]))\n",
    "    Nepochs = int(np.array(f[\"Nepochs\"]))\n",
    "    K = int(np.array(f[\"K\"]))\n",
    "    fix = np.array(f[\"fix\"])\n",
    "    scaling = float(np.array(f[\"scaling\"]))\n",
    "    \n",
    "# Rebuild the model.\n",
    "\n",
    "def innerBuilder(num):\n",
    "    maskList = []\n",
    "    for i in range(nlayers):\n",
    "        if i %2==0:\n",
    "            b = torch.zeros(num)\n",
    "            i = torch.randperm(b.numel()).narrow(0, 0, b.numel() // 2)\n",
    "            b.zero_()[i] = 1\n",
    "            b=b.reshape(1,num)\n",
    "        else:\n",
    "            b = 1-b\n",
    "        maskList.append(b)\n",
    "    maskList = torch.cat(maskList,0).to(torch.float32)\n",
    "    fl = flow.RNVP(maskList, [utils.SimpleMLPreshape([num]+[hidden]*nmlp+[num],[nn.Softplus()]*nmlp+[None]) for _ in range(nlayers)], [utils.SimpleMLPreshape([num]+[hidden]*nmlp+[num],[nn.Softplus()]*nmlp+[utils.ScalableTanh(num)]) for _ in range(nlayers)])\n",
    "    return fl\n",
    "\n",
    "from utils import flowBuilder\n",
    "\n",
    "f = flowBuilder(n,numFlow,innerBuilder,1).to(device).to(dtype)\n",
    "\n",
    "# Load saving.\n",
    "\n",
    "import os\n",
    "import glob\n",
    "name = max(glob.iglob(rootFolder+\"savings/\"+'*.saving'), key=os.path.getctime)\n",
    "print(\"load saving at \"+name)\n",
    "saved = torch.load(name,map_location=device)\n",
    "f.load(saved);"
   ]
  },
  {
   "cell_type": "markdown",
   "metadata": {},
   "source": [
    "# 2. Analysis\n"
   ]
  },
  {
   "cell_type": "code",
   "execution_count": 2,
   "metadata": {},
   "outputs": [
    {
     "data": {
      "image/png": "[encoded data removed]",
      "text/plain": [
       "<matplotlib.figure.Figure at 0x1098bfb38>"
      ]
     },
     "metadata": {},
     "output_type": "display_data"
    }
   ],
   "source": [
    "# Calculate modes in the latent space.\n",
    "\n",
    "d0 = f.layerList[0].elements[:n]\n",
    "d1 = f.layerList[0].elements[n:]\n",
    "omega = (1/(torch.exp(d0+d1))).detach()\n",
    "\n",
    "omega, idx = torch.sort(omega)\n",
    "\n",
    "from matplotlib import pyplot as plt\n",
    "from thirdparty import kraskov_mi\n",
    "\n",
    "Nsamples = 5\n",
    "Npersample = 1000\n",
    "loadrange = ['arr_0','arr_1','arr_2']\n",
    "\n",
    "from utils import loadmd, variance, smile2mass\n",
    "SMILE = smile2mass(smile)\n",
    "pVariance = torch.tensor([variance(torch.tensor(item),K) for item in SMILE]).reshape(1,-1).repeat(3,1).permute(1,0).reshape(-1).to(dtype)\n",
    "theta = loadmd(\"./database/alanine-dipeptide-3x250ns-backbone-dihedrals.npz\",loadrange,1,[0,0,0]).to(dtype)\n",
    "data = loadmd(\"./database/alanine-dipeptide-3x250ns-heavy-atom-positions.npz\",loadrange,scaling,fix).to(dtype)\n",
    "\n",
    "perm = np.arange(data.shape[0])\n",
    "np.random.shuffle(perm)\n",
    "data = data[perm][:Nsamples* Npersample, :]\n",
    "theta = theta[perm][:Nsamples* Npersample, :]\n",
    "\n",
    "batchsize, halfdim = data.shape[0], data.shape[1]\n",
    "p = torch.randn(batchsize,data.shape[-1]).to(data)*pVariance\n",
    "\n",
    "data = torch.cat([data,p], dim=1)\n",
    "\n",
    "z = f.forward(data)[0]\n",
    "z = z.detach().cpu().numpy()\n",
    "\n",
    "mi_phi = []\n",
    "mi_psi = []\n",
    "Nk = 6\n",
    "for k in range(Nk):\n",
    "    for sample in range(Nsamples):\n",
    "        mi_phi.append(kraskov_mi(theta[sample*Npersample:(sample+1)*Npersample, 0].reshape(-1, 1), z[sample*Npersample:(sample+1)*Npersample, idx[k]].reshape(-1, 1) ))\n",
    "        mi_psi.append( kraskov_mi(theta[sample*Npersample:(sample+1)*Npersample, 1].reshape(-1, 1), z[sample*Npersample:(sample+1)*Npersample, idx[k]].reshape(-1, 1) ))\n",
    "\n",
    "mi_phi = np.array(mi_phi)\n",
    "mi_phi = mi_phi.reshape(Nk, Nsamples) \n",
    "\n",
    "mi_psi = np.array(mi_psi)\n",
    "mi_psi = mi_psi.reshape(Nk, Nsamples) \n",
    "\n",
    "plt.errorbar(np.arange(Nk)+1, mi_phi.mean(axis=1), yerr=mi_phi.std(axis=1)/np.sqrt(Nsamples), fmt='o-', label='$I(Q_k:\\Phi)$', markerfacecolor='none', markeredgewidth=2, capsize=8, lw=2)\n",
    "\n",
    "plt.errorbar(np.arange(Nk)+1, mi_psi.mean(axis=1), yerr=mi_psi.std(axis=1)/np.sqrt(Nsamples), fmt='o-', label='$I(Q_k:\\Psi)$', markerfacecolor='none', markeredgewidth=2, capsize=8, lw=2)\n",
    "plt.xlabel('$k$')\n",
    "plt.ylabel('$mutual information$')\n",
    "plt.legend(loc='upper right')\n",
    "plt.show()"
   ]
  },
  {
   "cell_type": "code",
   "execution_count": null,
   "metadata": {
    "collapsed": true
   },
   "outputs": [],
   "source": []
  }
 ],
 "metadata": {
  "@webio": {
   "lastCommId": null,
   "lastKernelId": null
  },
  "kernelspec": {
   "display_name": "Python 3",
   "language": "python",
   "name": "python3"
  },
  "language_info": {
   "codemirror_mode": {
    "name": "ipython",
    "version": 3
   },
   "file_extension": ".py",
   "mimetype": "text/x-python",
   "name": "python",
   "nbconvert_exporter": "python",
   "pygments_lexer": "ipython3",
   "version": "3.6.8"
  }
 },
 "nbformat": 4,
 "nbformat_minor": 2
}
